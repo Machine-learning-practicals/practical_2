{
 "cells": [
  {
   "cell_type": "code",
   "execution_count": 3,
   "metadata": {
    "collapsed": false
   },
   "outputs": [
    {
     "ename": "ImportError",
     "evalue": "No module named util",
     "output_type": "error",
     "traceback": [
      "\u001b[0;31m---------------------------------------------------------------------------\u001b[0m",
      "\u001b[0;31mImportError\u001b[0m                               Traceback (most recent call last)",
      "\u001b[0;32m<ipython-input-3-df417484e1e7>\u001b[0m in \u001b[0;36m<module>\u001b[0;34m()\u001b[0m\n\u001b[1;32m     14\u001b[0m \u001b[0;32mfrom\u001b[0m \u001b[0mscipy\u001b[0m \u001b[0;32mimport\u001b[0m \u001b[0msparse\u001b[0m\u001b[0;34m\u001b[0m\u001b[0m\n\u001b[1;32m     15\u001b[0m \u001b[0;34m\u001b[0m\u001b[0m\n\u001b[0;32m---> 16\u001b[0;31m \u001b[0;32mimport\u001b[0m \u001b[0mutil\u001b[0m\u001b[0;34m\u001b[0m\u001b[0m\n\u001b[0m\u001b[1;32m     17\u001b[0m \u001b[0;34m\u001b[0m\u001b[0m\n\u001b[1;32m     18\u001b[0m \u001b[0mTRAIN_DIR\u001b[0m \u001b[0;34m=\u001b[0m \u001b[0;34m\"train\"\u001b[0m\u001b[0;34m\u001b[0m\u001b[0m\n",
      "\u001b[0;31mImportError\u001b[0m: No module named util"
     ]
    }
   ],
   "source": [
    "# Example Feature Extraction from XML Files\n",
    "# We count the number of specific system calls made by the programs, and use\n",
    "# these as our features.\n",
    "\n",
    "# This code requires that the unzipped training set is in a folder called \"train\". \n",
    "\n",
    "import os\n",
    "from collections import Counter\n",
    "try:\n",
    "    import xml.etree.cElementTree as ET\n",
    "except ImportError:\n",
    "    import xml.etree.ElementTree as ET\n",
    "import numpy as np\n",
    "from scipy import sparse\n",
    "\n",
    "import util\n",
    "\n",
    "TRAIN_DIR = \"train\"\n",
    "\n",
    "call_set = set([])\n",
    "\n",
    "def add_to_set(tree):\n",
    "    for el in tree.iter():\n",
    "        call = el.tag\n",
    "        call_set.add(call)\n",
    "\n",
    "def create_data_matrix(start_index, end_index, direc=\"train\"):\n",
    "    X = None\n",
    "    classes = []\n",
    "    ids = [] \n",
    "    i = -1\n",
    "    for datafile in os.listdir(direc):\n",
    "        if datafile == '.DS_Store':\n",
    "            continue\n",
    "\n",
    "        i += 1\n",
    "        if i < start_index:\n",
    "            continue \n",
    "        if i >= end_index:\n",
    "            break\n",
    "\n",
    "        # extract id and true class (if available) from filename\n",
    "        id_str, clazz = datafile.split('.')[:2]\n",
    "        ids.append(id_str)\n",
    "        # add target class if this is training data\n",
    "        try:\n",
    "            classes.append(util.malware_classes.index(clazz))\n",
    "\n",
    "        except ValueError:\n",
    "            # we should only fail to find the label in our list of malware classes\n",
    "            # if this is test data, which always has an \"X\" label\n",
    "            assert clazz == \"X\"\n",
    "            classes.append(-1)\n",
    "\n",
    "        # parse file as an xml document\n",
    "        tree = ET.parse(os.path.join(direc,datafile))\n",
    "        if direc==\"train\":\n",
    "            add_to_set(tree)\n",
    "        this_row = call_feats(tree)\n",
    "        if X is None:\n",
    "            X = this_row \n",
    "        else:\n",
    "            X = np.vstack((X, this_row))\n",
    "\n",
    "    return X, np.array(classes), ids\n",
    "\n",
    "def call_feats(tree):\n",
    "    good_calls = ['sleep', 'dump_line']\n",
    "\n",
    "    call_counter = {}\n",
    "    for el in tree.iter():\n",
    "        call = el.tag\n",
    "        if call not in call_counter:\n",
    "            call_counter[call] = 1\n",
    "        else:\n",
    "            call_counter[call] += 1\n",
    "\n",
    "    call_feat_array = np.zeros(len(good_calls))\n",
    "    for i in range(len(good_calls)):\n",
    "        call = good_calls[i]\n",
    "        call_feat_array[i] = 0\n",
    "        if call in call_counter:\n",
    "            call_feat_array[i] = call_counter[call]\n",
    "\n",
    "    return call_counter\n",
    "\n",
    "# Feature extraction\n",
    "def main():\n",
    "    X_train, t_train, train_ids = create_data_matrix(0, 5, TRAIN_DIR)\n",
    "    X_valid, t_valid, valid_ids = create_data_matrix(10, 15, TRAIN_DIR)\n",
    "\n",
    "    print 'Data matrix (training set):'\n",
    "    print X_train\n",
    "    print 'Classes (training set):'\n",
    "    print t_train\n",
    "\n",
    "    # From here, you can train models (eg by importing sklearn and inputting X_train, t_train).\n",
    "\n",
    "if __name__ == \"__main__\":\n",
    "    main()\n",
    "    "
   ]
  },
  {
   "cell_type": "code",
   "execution_count": 4,
   "metadata": {
    "collapsed": false
   },
   "outputs": [
    {
     "ename": "NameError",
     "evalue": "name 'create_data_matrix' is not defined",
     "output_type": "error",
     "traceback": [
      "\u001b[0;31m---------------------------------------------------------------------------\u001b[0m",
      "\u001b[0;31mNameError\u001b[0m                                 Traceback (most recent call last)",
      "\u001b[0;32m<ipython-input-4-55dad1b69555>\u001b[0m in \u001b[0;36m<module>\u001b[0;34m()\u001b[0m\n\u001b[0;32m----> 1\u001b[0;31m \u001b[0mX_train\u001b[0m\u001b[0;34m,\u001b[0m \u001b[0mt_train\u001b[0m\u001b[0;34m,\u001b[0m \u001b[0mtrain_ids\u001b[0m \u001b[0;34m=\u001b[0m \u001b[0mcreate_data_matrix\u001b[0m\u001b[0;34m(\u001b[0m\u001b[0;36m0\u001b[0m\u001b[0;34m,\u001b[0m \u001b[0;36m3086\u001b[0m\u001b[0;34m,\u001b[0m \u001b[0mTRAIN_DIR\u001b[0m\u001b[0;34m)\u001b[0m\u001b[0;34m\u001b[0m\u001b[0m\n\u001b[0m",
      "\u001b[0;31mNameError\u001b[0m: name 'create_data_matrix' is not defined"
     ]
    }
   ],
   "source": [
    "X_train, t_train, train_ids = create_data_matrix(0, 3086, TRAIN_DIR)"
   ]
  },
  {
   "cell_type": "code",
   "execution_count": 5,
   "metadata": {
    "collapsed": false
   },
   "outputs": [
    {
     "ename": "NameError",
     "evalue": "name 'create_data_matrix' is not defined",
     "output_type": "error",
     "traceback": [
      "\u001b[0;31m---------------------------------------------------------------------------\u001b[0m",
      "\u001b[0;31mNameError\u001b[0m                                 Traceback (most recent call last)",
      "\u001b[0;32m<ipython-input-5-26dc1c1db0ab>\u001b[0m in \u001b[0;36m<module>\u001b[0;34m()\u001b[0m\n\u001b[0;32m----> 1\u001b[0;31m \u001b[0mX_test\u001b[0m\u001b[0;34m,\u001b[0m \u001b[0mt_test\u001b[0m\u001b[0;34m,\u001b[0m \u001b[0mtest_ids\u001b[0m \u001b[0;34m=\u001b[0m \u001b[0mcreate_data_matrix\u001b[0m\u001b[0;34m(\u001b[0m\u001b[0;36m0\u001b[0m\u001b[0;34m,\u001b[0m \u001b[0;36m3728\u001b[0m\u001b[0;34m,\u001b[0m \u001b[0;34m'test'\u001b[0m\u001b[0;34m)\u001b[0m\u001b[0;34m\u001b[0m\u001b[0m\n\u001b[0m",
      "\u001b[0;31mNameError\u001b[0m: name 'create_data_matrix' is not defined"
     ]
    }
   ],
   "source": [
    "X_test, t_test, test_ids = create_data_matrix(0, 3728, 'test')"
   ]
  },
  {
   "cell_type": "code",
   "execution_count": 6,
   "metadata": {
    "collapsed": false
   },
   "outputs": [],
   "source": [
    "def convertMatrix(X, call_set):\n",
    "    features = dict()\n",
    "    for i in call_set:\n",
    "        features[i] = []\n",
    "    \n",
    "    for i in X:\n",
    "        for j in call_set:\n",
    "            if j in i[0].keys():\n",
    "                features[j].append(i[0][j])\n",
    "            else:\n",
    "                features[j].append(0)\n",
    "    \n",
    "    return features"
   ]
  },
  {
   "cell_type": "code",
   "execution_count": 7,
   "metadata": {
    "collapsed": true
   },
   "outputs": [],
   "source": [
    "import pandas as pd"
   ]
  },
  {
   "cell_type": "code",
   "execution_count": 8,
   "metadata": {
    "collapsed": false
   },
   "outputs": [
    {
     "ename": "NameError",
     "evalue": "name 'X_train' is not defined",
     "output_type": "error",
     "traceback": [
      "\u001b[0;31m---------------------------------------------------------------------------\u001b[0m",
      "\u001b[0;31mNameError\u001b[0m                                 Traceback (most recent call last)",
      "\u001b[0;32m<ipython-input-8-9f642d38edf5>\u001b[0m in \u001b[0;36m<module>\u001b[0;34m()\u001b[0m\n\u001b[0;32m----> 1\u001b[0;31m \u001b[0mtrain_set\u001b[0m \u001b[0;34m=\u001b[0m \u001b[0mpd\u001b[0m\u001b[0;34m.\u001b[0m\u001b[0mDataFrame\u001b[0m\u001b[0;34m(\u001b[0m\u001b[0mconvertMatrix\u001b[0m\u001b[0;34m(\u001b[0m\u001b[0mX_train\u001b[0m\u001b[0;34m,\u001b[0m\u001b[0mcall_set\u001b[0m\u001b[0;34m)\u001b[0m\u001b[0;34m)\u001b[0m\u001b[0;34m\u001b[0m\u001b[0m\n\u001b[0m\u001b[1;32m      2\u001b[0m \u001b[0mtest_set\u001b[0m\u001b[0;34m=\u001b[0m \u001b[0mpd\u001b[0m\u001b[0;34m.\u001b[0m\u001b[0mDataFrame\u001b[0m\u001b[0;34m(\u001b[0m\u001b[0mconvertMatrix\u001b[0m\u001b[0;34m(\u001b[0m\u001b[0mX_test\u001b[0m\u001b[0;34m,\u001b[0m\u001b[0mcall_set\u001b[0m\u001b[0;34m)\u001b[0m\u001b[0;34m)\u001b[0m\u001b[0;34m\u001b[0m\u001b[0m\n\u001b[1;32m      3\u001b[0m \u001b[0;31m# train_set['id'] = train_ids\u001b[0m\u001b[0;34m\u001b[0m\u001b[0;34m\u001b[0m\u001b[0m\n\u001b[1;32m      4\u001b[0m \u001b[0;31m# train_set['class'] = t_train\u001b[0m\u001b[0;34m\u001b[0m\u001b[0;34m\u001b[0m\u001b[0m\n",
      "\u001b[0;31mNameError\u001b[0m: name 'X_train' is not defined"
     ]
    }
   ],
   "source": [
    "train_set = pd.DataFrame(convertMatrix(X_train,call_set))\n",
    "test_set= pd.DataFrame(convertMatrix(X_test,call_set))\n",
    "# train_set['id'] = train_ids\n",
    "# train_set['class'] = t_train"
   ]
  },
  {
   "cell_type": "code",
   "execution_count": 9,
   "metadata": {
    "collapsed": false
   },
   "outputs": [
    {
     "ename": "NameError",
     "evalue": "name 'train_set' is not defined",
     "output_type": "error",
     "traceback": [
      "\u001b[0;31m---------------------------------------------------------------------------\u001b[0m",
      "\u001b[0;31mNameError\u001b[0m                                 Traceback (most recent call last)",
      "\u001b[0;32m<ipython-input-9-ec1acef7e12d>\u001b[0m in \u001b[0;36m<module>\u001b[0;34m()\u001b[0m\n\u001b[0;32m----> 1\u001b[0;31m \u001b[0mtrain_set\u001b[0m\u001b[0;34m\u001b[0m\u001b[0m\n\u001b[0m",
      "\u001b[0;31mNameError\u001b[0m: name 'train_set' is not defined"
     ]
    }
   ],
   "source": [
    "train_set"
   ]
  },
  {
   "cell_type": "code",
   "execution_count": 22,
   "metadata": {
    "collapsed": false
   },
   "outputs": [],
   "source": [
    "import numpy as np\n",
    "import matplotlib.pyplot as plt\n",
    "from matplotlib.colors import ListedColormap\n",
    "from sklearn.cross_validation import train_test_split\n",
    "from sklearn.preprocessing import StandardScaler\n",
    "from sklearn.datasets import make_moons, make_circles, make_classification\n",
    "from sklearn.neighbors import KNeighborsClassifier\n",
    "from sklearn.svm import SVC\n",
    "from sklearn.tree import DecisionTreeClassifier\n",
    "from sklearn.ensemble import RandomForestClassifier, AdaBoostClassifier\n",
    "from sklearn.naive_bayes import GaussianNB\n",
    "from sklearn.discriminant_analysis import LinearDiscriminantAnalysis\n",
    "from sklearn.discriminant_analysis import QuadraticDiscriminantAnalysis\n",
    "\n",
    "h = .02  # step size in the mesh\n",
    "\n",
    "names = [\"Nearest Neighbors\", \"Linear SVM\",\"Poly SVM\",\"Sigmoid SVM\",\"RBF SVM\", \"Decision Tree\",\n",
    "         \"Random Forest\",  \"Linear Discriminant Analysis\",\n",
    "         \"Quadratic Discriminant Analysis\"]\n",
    "classifiers = [\n",
    "    KNeighborsClassifier(5),\n",
    "    SVC(kernel=\"linear\", C=0.025),\n",
    "    SVC(kernel=\"poly\", C=0.025),\n",
    "    SVC(kernel=\"sigmoid\", C=0.025),\n",
    "    SVC(kernel=\"rbf\",C=0.025),\n",
    "    #SVC(gamma=2, C=1),\n",
    "    DecisionTreeClassifier(max_depth=10),\n",
    "    RandomForestClassifier(max_depth=10, n_estimators=10, max_features=1),\n",
    "    #AdaBoostClassifier(),\n",
    "    #GaussianNB(),\n",
    "    LinearDiscriminantAnalysis(),\n",
    "    QuadraticDiscriminantAnalysis()]"
   ]
  },
  {
   "cell_type": "code",
   "execution_count": 23,
   "metadata": {
    "collapsed": true
   },
   "outputs": [],
   "source": [
    "y_train = t_train[:2000]\n",
    "X_train = train_set[:2000]\n",
    "y_valid = t_train[2000:]\n",
    "X_valid = train_set[2000:]\n",
    "y_test = t_test\n",
    "X_test = test_set"
   ]
  },
  {
   "cell_type": "code",
   "execution_count": 24,
   "metadata": {
    "collapsed": false
   },
   "outputs": [
    {
     "name": "stdout",
     "output_type": "stream",
     "text": [
      "Nearest Neighbors 0.837937384899\n",
      "Linear SVM 0.85635359116\n",
      "Poly SVM 0.82320441989\n",
      "Sigmoid SVM 0.515653775322\n",
      "RBF SVM 0.622467771639\n",
      "Decision Tree 0.862799263352\n",
      "Random Forest"
     ]
    },
    {
     "name": "stderr",
     "output_type": "stream",
     "text": [
      "/Users/Jing/anaconda/lib/python2.7/site-packages/sklearn/discriminant_analysis.py:453: UserWarning: The priors do not sum to 1. Renormalizing\n",
      "  UserWarning)\n",
      "/Users/Jing/anaconda/lib/python2.7/site-packages/sklearn/discriminant_analysis.py:387: UserWarning: Variables are collinear.\n",
      "  warnings.warn(\"Variables are collinear.\")\n"
     ]
    },
    {
     "name": "stdout",
     "output_type": "stream",
     "text": [
      " 0.8802946593\n",
      "Linear Discriminant Analysis 0.830570902394\n",
      "Quadratic Discriminant Analysis 0.791896869245\n"
     ]
    },
    {
     "name": "stderr",
     "output_type": "stream",
     "text": [
      "/Users/Jing/anaconda/lib/python2.7/site-packages/sklearn/discriminant_analysis.py:688: UserWarning: Variables are collinear\n",
      "  warnings.warn(\"Variables are collinear\")\n"
     ]
    }
   ],
   "source": [
    "for name, clf in zip(names, classifiers):\n",
    "#         ax = plt.subplot(len(datasets), len(classifiers) + 1, i)\n",
    "        clf.fit(X_train, y_train)\n",
    "        score = clf.score(X_valid, y_valid)\n",
    "        print name, score\n"
   ]
  },
  {
   "cell_type": "code",
   "execution_count": 27,
   "metadata": {
    "collapsed": false
   },
   "outputs": [],
   "source": [
    "clf=RandomForestClassifier(max_depth=10, n_estimators=10, max_features=1)\n",
    "clf.fit(train_set, t_train)\n",
    "t_test=clf.predict(X_test)"
   ]
  },
  {
   "cell_type": "code",
   "execution_count": 28,
   "metadata": {
    "collapsed": false
   },
   "outputs": [
    {
     "data": {
      "text/plain": [
       "array([ 8, 10,  8, ..., 12,  8,  8])"
      ]
     },
     "execution_count": 28,
     "metadata": {},
     "output_type": "execute_result"
    }
   ],
   "source": [
    "t_test"
   ]
  },
  {
   "cell_type": "code",
   "execution_count": 29,
   "metadata": {
    "collapsed": true
   },
   "outputs": [],
   "source": [
    "# these are the fifteen malware classes we're looking for\n",
    "malware_classes = [\"Agent\", \"AutoRun\", \"FraudLoad\", \"FraudPack\", \"Hupigon\", \"Krap\",\n",
    "           \"Lipler\", \"Magania\", \"None\", \"Poison\", \"Swizzor\", \"Tdss\",\n",
    "           \"VB\", \"Virut\", \"Zbot\"]\n",
    "\n",
    "# a function for writing predictions in the required format\n",
    "def write_predictions(predictions, ids, outfile):\n",
    "    \"\"\"\n",
    "    assumes len(predictions) == len(ids), and that predictions[i] is the\n",
    "    index of the predicted class with the malware_classes list above for \n",
    "    the executable corresponding to ids[i].\n",
    "    outfile will be overwritten\n",
    "    \"\"\"\n",
    "    with open(outfile,\"w+\") as f:\n",
    "        # write header\n",
    "        f.write(\"Id,Prediction\\n\")\n",
    "        for i, history_id in enumerate(ids):\n",
    "            f.write(\"%s,%d\\n\" % (history_id, predictions[i]))"
   ]
  },
  {
   "cell_type": "code",
   "execution_count": 35,
   "metadata": {
    "collapsed": false
   },
   "outputs": [],
   "source": [
    "write_predictions(t_test,test_ids,\"randomforrest.csv\")"
   ]
  },
  {
   "cell_type": "markdown",
   "metadata": {},
   "source": [
    "# Exploration"
   ]
  },
  {
   "cell_type": "code",
   "execution_count": 93,
   "metadata": {
    "collapsed": false
   },
   "outputs": [],
   "source": [
    "%matplotlib inline"
   ]
  },
  {
   "cell_type": "code",
   "execution_count": 94,
   "metadata": {
    "collapsed": false
   },
   "outputs": [
    {
     "data": {
      "text/plain": [
       "<matplotlib.axes._subplots.AxesSubplot at 0x110764290>"
      ]
     },
     "execution_count": 94,
     "metadata": {},
     "output_type": "execute_result"
    },
    {
     "data": {
      "image/png": "[encoded data removed]",
      "text/plain": [
       "<matplotlib.figure.Figure at 0x110758490>"
      ]
     },
     "metadata": {},
     "output_type": "display_data"
    }
   ],
   "source": [
    "\n",
    "import numpy as np\n",
    "import pandas as pd\n",
    "import seaborn as sns\n",
    "import matplotlib.pyplot as plt\n",
    "\n",
    "\n",
    "sns.set(style=\"white\")\n",
    "\n",
    "# Generate a large random dataset\n",
    "\n",
    "# Compute the correlation matrix\n",
    "corr = train_set.corr()\n",
    "\n",
    "# Generate a mask for the upper triangle\n",
    "mask = np.zeros_like(corr, dtype=np.bool)\n",
    "mask[np.triu_indices_from(mask)] = True\n",
    "\n",
    "# Set up the matplotlib figure\n",
    "f, ax = plt.subplots(figsize=(11, 9))\n",
    "\n",
    "# Generate a custom diverging colormap\n",
    "cmap = sns.diverging_palette(220, 10, as_cmap=True)\n",
    "\n",
    "# Draw the heatmap with the mask and correct aspect ratio\n",
    "sns.heatmap(corr, mask=mask, cmap=cmap, vmax=.3,\n",
    "            square=True, xticklabels=5, yticklabels=5,\n",
    "            linewidths=.5, cbar_kws={\"shrink\": .5}, ax=ax)"
   ]
  },
  {
   "cell_type": "code",
   "execution_count": 66,
   "metadata": {
    "collapsed": true
   },
   "outputs": [],
   "source": [
    "plt.show()"
   ]
  },
  {
   "cell_type": "code",
   "execution_count": 80,
   "metadata": {
    "collapsed": false
   },
   "outputs": [
    {
     "data": {
      "text/plain": [
       "array([  3.91315276e-01,   2.63259786e-01,   1.45155855e-01,\n",
       "         9.41070436e-02,   4.22026597e-02,   1.50369668e-02,\n",
       "         1.35901802e-02,   1.08299298e-02,   9.02474844e-03,\n",
       "         4.79322777e-03,   3.51131656e-03,   1.46616478e-03,\n",
       "         1.30781114e-03,   1.09285478e-03,   8.78713852e-04,\n",
       "         4.77860237e-04,   4.44813602e-04,   3.01532820e-04,\n",
       "         2.17952089e-04,   1.66558047e-04])"
      ]
     },
     "execution_count": 80,
     "metadata": {},
     "output_type": "execute_result"
    }
   ],
   "source": [
    "from sklearn.decomposition import PCA\n",
    "\n",
    "pca=PCA(n_components=20)\n",
    "pca.fit_transform(train_set,t_train)\n",
    "pca.explained_variance_ratio_"
   ]
  },
  {
   "cell_type": "code",
   "execution_count": 81,
   "metadata": {
    "collapsed": true
   },
   "outputs": [],
   "source": [
    "pca_train=pca.fit_transform(train_set,t_train)\n",
    "pca_test=pca.transform(test_set)"
   ]
  },
  {
   "cell_type": "markdown",
   "metadata": {},
   "source": [
    "# Systemized Model Selection"
   ]
  },
  {
   "cell_type": "code",
   "execution_count": 38,
   "metadata": {
    "collapsed": true
   },
   "outputs": [],
   "source": [
    "from sklearn.cross_validation import train_test_split\n",
    "itrain, itest = train_test_split(xrange(train_set.shape[0]), train_size=0.7)\n",
    "mask=np.ones(train_set.shape[0], dtype='int')\n",
    "mask[itrain]=1\n",
    "mask[itest]=0\n",
    "mask = (mask==1)"
   ]
  },
  {
   "cell_type": "code",
   "execution_count": 39,
   "metadata": {
    "collapsed": true
   },
   "outputs": [],
   "source": [
    "from sklearn.grid_search import GridSearchCV\n",
    "\n",
    "\"\"\"\n",
    "Function\n",
    "--------\n",
    "cv_optimize\n",
    "\n",
    "Inputs\n",
    "------\n",
    "clf : an instance of a scikit-learn classifier\n",
    "parameters: a parameter grid dictionary thats passed to GridSearchCV (see above)\n",
    "X: a samples-features matrix in the scikit-learn style\n",
    "y: the response vectors of 1s and 0s (+ives and -ives)\n",
    "n_folds: the number of cross-validation folds (default 5)\n",
    "score_func: a score function we might want to pass (default python None)\n",
    "   \n",
    "Returns\n",
    "-------\n",
    "The best estimator from the GridSearchCV, after the GridSearchCV has been used to\n",
    "fit the model.\n",
    "     \n",
    "Notes\n",
    "-----\n",
    "see do_classify and the code below for an example of how this is used\n",
    "\"\"\"\n",
    "#your code here\n",
    "\n",
    "def cv_optimize(clf,parameters,X,y,n_folds,score_func=None):\n",
    "    if score_func:\n",
    "        fitmodel = GridSearchCV(clf, param_grid=parameters, cv=n_folds, scoring=score_func)\n",
    "    else:\n",
    "        fitmodel = GridSearchCV(clf, param_grid=parameters, cv=n_folds)\n",
    "    fitmodel.fit(X,y)\n",
    "    print \"BEST\", fitmodel.best_params_, fitmodel.best_score_, fitmodel.grid_scores_\n",
    "    best = fitmodel.best_estimator_\n",
    "    return best"
   ]
  },
  {
   "cell_type": "code",
   "execution_count": 40,
   "metadata": {
    "collapsed": true
   },
   "outputs": [],
   "source": [
    "from sklearn.metrics import confusion_matrix\n",
    "def do_classify(clf, parameters, train, test, mask=None, reuse_split=None, score_func=None, n_folds=5):\n",
    "    \n",
    "    X=train\n",
    "    y=test\n",
    "    if mask !=None:\n",
    "        print \"using mask\"\n",
    "        Xtrain, Xtest, ytrain, ytest = X[mask], X[~mask], y[mask], y[~mask]\n",
    "    if reuse_split !=None:\n",
    "        print \"using reuse split\"\n",
    "        Xtrain, Xtest, ytrain, ytest = reuse_split['Xtrain'], reuse_split['Xtest'], reuse_split['ytrain'], reuse_split['ytest']\n",
    "    if parameters:\n",
    "        clf = cv_optimize(clf, parameters, Xtrain, ytrain, n_folds=n_folds, score_func=score_func)\n",
    "    clf=clf.fit(Xtrain, ytrain)\n",
    "    training_accuracy = clf.score(Xtrain, ytrain)\n",
    "    test_accuracy = clf.score(Xtest, ytest)\n",
    "    print \"############# based on standard predict ################\"\n",
    "    print \"Accuracy on training data: %0.2f\" % (training_accuracy)\n",
    "    print \"Accuracy on test data:     %0.2f\" % (test_accuracy)\n",
    "    print confusion_matrix(ytest, clf.predict(Xtest))\n",
    "    print \"########################################################\"\n",
    "    return clf, Xtrain, ytrain, Xtest, ytest"
   ]
  },
  {
   "cell_type": "code",
   "execution_count": 44,
   "metadata": {
    "collapsed": false
   },
   "outputs": [
    {
     "name": "stdout",
     "output_type": "stream",
     "text": [
      "using mask\n",
      "BEST {'max_depth': 20} 0.87962962963 [mean: 0.87824, std: 0.01412, params: {'max_depth': 10}, mean: 0.87963, std: 0.01408, params: {'max_depth': 20}, mean: 0.87639, std: 0.01220, params: {'max_depth': 50}, mean: 0.87731, std: 0.01344, params: {'max_depth': 100}, mean: 0.87917, std: 0.01041, params: {'max_depth': 200}, mean: 0.86713, std: 0.00984, params: {'max_depth': 500}]\n",
      "############# based on standard predict ################\n",
      "Accuracy on training data: 0.99\n",
      "Accuracy on test data:     0.88\n",
      "[[ 14   0   0   0   4   0   1   0  11   3   0   1   2   0   0]\n",
      " [  0   8   0   0   0   0   0   0   3   1   0   0   1   0   0]\n",
      " [  4   0   6   0   0   1   0   0   0   0   0   0   0   0   0]\n",
      " [  0   0   0   9   0   0   0   0   0   0   0   0   0   0   0]\n",
      " [  0   0   0   0   7   0   0   0   5   0   0   0   0   0   0]\n",
      " [  0   1   1   0   0   9   0   0   3   0   0   0   0   0   0]\n",
      " [  0   0   0   0   0   0  14   0   1   0   0   0   0   0   0]\n",
      " [  1   0   0   0   0   0   0   9   0   0   0   0   0   0   0]\n",
      " [  9   0   0   1   1   0   1   2 466   1   1   0   2   5   0]\n",
      " [  0   0   0   0   0   0   0   0   1   2   1   0   0   0   0]\n",
      " [  0   0   0   2   0   0   0   0   2   0 161   0   0   0   0]\n",
      " [  0   0   0   0   0   0   0   0   3   0   0   5   0   0   0]\n",
      " [  3   0   0   0   0   2   0   0  11   2   0   0  98   0   0]\n",
      " [  0   0   0   0   0   1   0   0  10   0   0   0   0   3   0]\n",
      " [  1   0   0   0   0   0   0   0   0   0   0   0   0   2   7]]\n",
      "########################################################\n",
      "CPU times: user 1.37 s, sys: 10.1 ms, total: 1.38 s\n",
      "Wall time: 1.39 s\n"
     ]
    },
    {
     "name": "stderr",
     "output_type": "stream",
     "text": [
      "/Users/Jing/anaconda/lib/python2.7/site-packages/ipykernel/__main__.py:6: FutureWarning: comparison to `None` will result in an elementwise object comparison in the future.\n"
     ]
    }
   ],
   "source": [
    "%%time\n",
    "clfrf, Xtrain, ytrain, Xtest, ytest = do_classify(RandomForestClassifier(),\n",
    "                                                   {\"max_depth\": [10,20,50,100,200,500]}, \n",
    "                                                   train_set,t_train,mask=mask)"
   ]
  },
  {
   "cell_type": "code",
   "execution_count": 45,
   "metadata": {
    "collapsed": true
   },
   "outputs": [],
   "source": [
    "t_test=clfrf.predict(X_test)\n",
    "write_predictions(t_test,test_ids,\"randomforrest2.csv\")"
   ]
  },
  {
   "cell_type": "code",
   "execution_count": 60,
   "metadata": {
    "collapsed": true
   },
   "outputs": [],
   "source": [
    "reuse_split=dict(Xtrain=Xtrain, Xtest=Xtest, ytrain=ytrain, ytest=ytest)"
   ]
  },
  {
   "cell_type": "code",
   "execution_count": 61,
   "metadata": {
    "collapsed": false
   },
   "outputs": [
    {
     "name": "stdout",
     "output_type": "stream",
     "text": [
      "using reuse split\n",
      "BEST {'n_estimators': 20, 'max_depth': 10} 0.888425925926 [mean: 0.84259, std: 0.01593, params: {'n_estimators': 1, 'max_depth': 10}, mean: 0.86852, std: 0.01399, params: {'n_estimators': 5, 'max_depth': 10}, mean: 0.87917, std: 0.00593, params: {'n_estimators': 10, 'max_depth': 10}, mean: 0.88843, std: 0.00610, params: {'n_estimators': 20, 'max_depth': 10}, mean: 0.83565, std: 0.01996, params: {'n_estimators': 1, 'max_depth': 20}, mean: 0.87083, std: 0.00479, params: {'n_estimators': 5, 'max_depth': 20}, mean: 0.86991, std: 0.01078, params: {'n_estimators': 10, 'max_depth': 20}, mean: 0.87593, std: 0.01110, params: {'n_estimators': 20, 'max_depth': 20}, mean: 0.83889, std: 0.01230, params: {'n_estimators': 1, 'max_depth': 50}, mean: 0.87037, std: 0.01257, params: {'n_estimators': 5, 'max_depth': 50}, mean: 0.87639, std: 0.00668, params: {'n_estimators': 10, 'max_depth': 50}, mean: 0.88472, std: 0.01312, params: {'n_estimators': 20, 'max_depth': 50}]\n",
      "############# based on standard predict ################\n",
      "Accuracy on training data: 0.96\n",
      "Accuracy on test data:     0.89\n",
      "[[ 10   0   0   0   0   0   0   0  22   2   0   0   2   0   0]\n",
      " [  1   8   0   0   0   0   0   0   3   0   0   0   1   0   0]\n",
      " [  4   0   5   0   0   1   0   0   1   0   0   0   0   0   0]\n",
      " [  0   0   0   9   0   0   0   0   0   0   0   0   0   0   0]\n",
      " [  1   0   0   0   7   0   0   0   4   0   0   0   0   0   0]\n",
      " [  0   0   2   0   0   8   0   0   4   0   0   0   0   0   0]\n",
      " [  0   0   0   0   0   0  14   0   1   0   0   0   0   0   0]\n",
      " [  0   0   0   0   0   0   0   9   1   0   0   0   0   0   0]\n",
      " [  2   0   1   1   0   0   1   0 480   1   0   0   2   1   0]\n",
      " [  0   0   0   0   0   0   0   0   0   3   0   0   1   0   0]\n",
      " [  0   0   0   0   0   0   0   0   2   2 161   0   0   0   0]\n",
      " [  0   0   0   0   0   0   0   0   2   0   0   5   0   1   0]\n",
      " [  1   0   0   0   0   0   0   0  17   0   0   0  98   0   0]\n",
      " [  0   0   0   0   0   0   0   0  13   0   0   0   0   1   0]\n",
      " [  0   0   0   0   0   0   0   0   4   0   0   0   0   0   6]]\n",
      "########################################################\n",
      "CPU times: user 2.5 s, sys: 25.4 ms, total: 2.52 s\n",
      "Wall time: 2.55 s\n"
     ]
    }
   ],
   "source": [
    "%%time\n",
    "clfrf, Xtrain, ytrain, Xtest, ytest = do_classify(RandomForestClassifier(),\n",
    "                                                   {\"max_depth\": [10,20,50],\n",
    "                                                    \"n_estimators\":[1,5,10,20,50]}, \n",
    "                                                   train_set,t_train,reuse_split=reuse_split)"
   ]
  },
  {
   "cell_type": "code",
   "execution_count": 68,
   "metadata": {
    "collapsed": false
   },
   "outputs": [
    {
     "name": "stdout",
     "output_type": "stream",
     "text": [
      "using reuse split\n",
      "BEST {'C': 1.0} 0.861111111111 [mean: 0.73380, std: 0.01048, params: {'C': 0.001}, mean: 0.76019, std: 0.00315, params: {'C': 0.01}, mean: 0.84861, std: 0.00490, params: {'C': 0.1}, mean: 0.86111, std: 0.00837, params: {'C': 1.0}, mean: 0.85370, std: 0.01001, params: {'C': 10.0}, mean: 0.85880, std: 0.01335, params: {'C': 100.0}]\n",
      "############# based on standard predict ################\n",
      "Accuracy on training data: 0.92\n",
      "Accuracy on test data:     0.87\n",
      "[[  9   1   0   0   2   3   0   0  16   1   0   0   2   1   1]\n",
      " [  0   7   0   0   0   1   0   0   3   1   0   0   1   0   0]\n",
      " [  1   0   8   0   0   1   0   0   1   0   0   0   0   0   0]\n",
      " [  0   0   0   6   0   0   0   0   3   0   0   0   0   0   0]\n",
      " [  0   0   1   0   7   0   0   0   4   0   0   0   0   0   0]\n",
      " [  2   0   1   2   0   7   0   0   2   0   0   0   0   0   0]\n",
      " [  1   0   0   0   0   0  13   0   1   0   0   0   0   0   0]\n",
      " [  1   0   0   0   0   0   0   6   3   0   0   0   0   0   0]\n",
      " [  2   1   2   1   1   1   3   0 467   1   0   5   3   2   0]\n",
      " [  0   1   0   0   0   0   0   0   1   0   0   0   2   0   0]\n",
      " [  0   0   0   0   0   0   0   0   0   0 163   0   0   2   0]\n",
      " [  0   0   0   0   0   0   0   0   2   0   0   6   0   0   0]\n",
      " [  2   0   0   1   0   0   0   0  15   0   0   0  98   0   0]\n",
      " [  0   0   0   0   0   0   0   0  13   0   0   0   0   1   0]\n",
      " [  0   2   0   0   0   0   0   0   4   0   0   0   1   0   3]]\n",
      "########################################################\n",
      "CPU times: user 10min 7s, sys: 2.88 s, total: 10min 9s\n",
      "Wall time: 10min 22s\n"
     ]
    }
   ],
   "source": [
    "%%time\n",
    "from sklearn.linear_model import LogisticRegression \n",
    "\n",
    "clflr, Xtrain, ytrain, Xtest, ytest = do_classify(LogisticRegression(penalty=\"l1\"), \\\n",
    "                                                   {\"C\": [0.001, 0.01, 0.1, 1.0, 10.0]},\n",
    "                                                   train_set,t_train,reuse_split=reuse_split)"
   ]
  },
  {
   "cell_type": "code",
   "execution_count": 71,
   "metadata": {
    "collapsed": false
   },
   "outputs": [],
   "source": [
    "t_test=clflr.predict(X_test)\n",
    "write_predictions(t_test,test_ids,\"logistic.csv\")"
   ]
  },
  {
   "cell_type": "code",
   "execution_count": null,
   "metadata": {
    "collapsed": false
   },
   "outputs": [],
   "source": [
    "%%time\n",
    "# from sklearn.neural_network import MLPClassifier\n",
    "\n",
    "# clfnn, Xtrain, ytrain, Xtest, ytest = do_classify(MLPClassifier(algorithm=\"sgd\",activation=\"logistic\",\n",
    "#                                                                random_state=1),\n",
    "#                                                    {\"alpha\": [1e-5,1e-4,1e-3,1e-2,1],\n",
    "#                                                     \"n_estimators\":[1,5,10]}, \n",
    "#                                                    train_set,t_train,reuse_split=reuse_split)"
   ]
  },
  {
   "cell_type": "markdown",
   "metadata": {},
   "source": [
    "# PCA transformation"
   ]
  },
  {
   "cell_type": "code",
   "execution_count": 86,
   "metadata": {
    "collapsed": false
   },
   "outputs": [],
   "source": [
    "from sklearn.cross_validation import train_test_split\n",
    "itrain, itest = train_test_split(xrange(pca_train.shape[0]), train_size=0.7)\n",
    "mask=np.ones(pca_train.shape[0], dtype='int')\n",
    "mask[itrain]=1\n",
    "mask[itest]=0\n",
    "mask = (mask==1)"
   ]
  },
  {
   "cell_type": "code",
   "execution_count": 91,
   "metadata": {
    "collapsed": false
   },
   "outputs": [
    {
     "name": "stdout",
     "output_type": "stream",
     "text": [
      "using mask\n",
      "BEST {'n_estimators': 50, 'max_depth': 10} 0.872685185185 [mean: 0.85694, std: 0.01766, params: {'n_estimators': 10, 'max_depth': 10}, mean: 0.87130, std: 0.01766, params: {'n_estimators': 20, 'max_depth': 10}, mean: 0.87269, std: 0.01116, params: {'n_estimators': 50, 'max_depth': 10}, mean: 0.86667, std: 0.00862, params: {'n_estimators': 10, 'max_depth': 20}, mean: 0.87130, std: 0.01674, params: {'n_estimators': 20, 'max_depth': 20}, mean: 0.86991, std: 0.01173, params: {'n_estimators': 50, 'max_depth': 20}, mean: 0.85741, std: 0.01856, params: {'n_estimators': 10, 'max_depth': 50}, mean: 0.86852, std: 0.01319, params: {'n_estimators': 20, 'max_depth': 50}, mean: 0.87176, std: 0.01922, params: {'n_estimators': 50, 'max_depth': 50}]\n",
      "############# based on standard predict ################\n",
      "Accuracy on training data: 0.96\n",
      "Accuracy on test data:     0.88\n",
      "[[  7   0   0   0   0   0   0   0  18   1   0   0   2   0   2]\n",
      " [  0   5   0   0   0   0   0   0   6   0   0   0   1   0   1]\n",
      " [  1   0  11   0   0   1   0   0   5   0   0   0   0   0   0]\n",
      " [  0   0   0  11   0   1   0   0   0   0   0   0   0   0   0]\n",
      " [  1   0   0   0   5   0   0   0   4   0   0   0   1   0   0]\n",
      " [  0   0   0   0   0   9   0   0   5   0   0   0   0   0   0]\n",
      " [  0   0   0   0   0   0  17   0   0   0   0   0   0   0   0]\n",
      " [  0   0   0   0   0   0   0   7   4   0   0   0   0   0   0]\n",
      " [ 13   1   0   1   0   0   0   0 460   1   0   1   1   1   0]\n",
      " [  1   0   0   0   0   0   0   0   2   1   0   0   0   0   0]\n",
      " [  0   0   0   0   0   0   0   0   1   0 161   0   0   0   0]\n",
      " [  2   0   0   0   0   0   0   0   6   0   0   6   0   1   0]\n",
      " [  0   0   0   0   0   0   0   0  14   0   0   0 103   0   0]\n",
      " [  0   0   0   0   0   0   0   0  11   0   1   0   0   1   0]\n",
      " [  0   0   0   0   0   0   0   0   1   0   0   0   0   1   8]]\n",
      "########################################################\n",
      "CPU times: user 6.94 s, sys: 26.9 ms, total: 6.96 s\n",
      "Wall time: 7.01 s\n"
     ]
    },
    {
     "name": "stderr",
     "output_type": "stream",
     "text": [
      "/Users/Jing/anaconda/lib/python2.7/site-packages/ipykernel/__main__.py:6: FutureWarning: comparison to `None` will result in an elementwise object comparison in the future.\n"
     ]
    }
   ],
   "source": [
    "%%time\n",
    "clfrf, Xtrain, ytrain, Xtest, ytest = do_classify(RandomForestClassifier(),\n",
    "                                                   {\"max_depth\": [10,20,50],\"n_estimators\":[10,20,50]}, \n",
    "                                                   pca_train,t_train,mask=mask)"
   ]
  },
  {
   "cell_type": "code",
   "execution_count": 92,
   "metadata": {
    "collapsed": false
   },
   "outputs": [
    {
     "name": "stdout",
     "output_type": "stream",
     "text": [
      "using reuse split\n",
      "BEST {'C': 1.0} 0.859259259259 [mean: 0.73380, std: 0.01048, params: {'C': 0.001}, mean: 0.76019, std: 0.00315, params: {'C': 0.01}, mean: 0.84954, std: 0.00611, params: {'C': 0.1}, mean: 0.85926, std: 0.00848, params: {'C': 1.0}, mean: 0.85417, std: 0.01015, params: {'C': 10.0}]\n",
      "############# based on standard predict ################\n",
      "Accuracy on training data: 0.92\n",
      "Accuracy on test data:     0.87\n",
      "[[  9   1   0   0   2   3   0   0  16   1   0   0   2   1   1]\n",
      " [  0   7   0   0   0   0   0   0   4   1   0   0   1   0   0]\n",
      " [  0   0   8   0   0   1   0   0   2   0   0   0   0   0   0]\n",
      " [  0   0   0   6   0   0   0   0   3   0   0   0   0   0   0]\n",
      " [  0   0   1   0   7   0   0   0   4   0   0   0   0   0   0]\n",
      " [  3   0   0   2   0   7   0   0   2   0   0   0   0   0   0]\n",
      " [  1   0   0   0   0   0  13   0   1   0   0   0   0   0   0]\n",
      " [  1   0   0   0   0   0   0   6   3   0   0   0   0   0   0]\n",
      " [  3   1   1   1   0   1   2   0 469   1   0   5   3   2   0]\n",
      " [  0   1   0   0   0   0   0   0   1   0   0   0   2   0   0]\n",
      " [  0   0   0   0   0   0   0   0   0   0 163   0   0   2   0]\n",
      " [  0   0   0   0   0   0   0   0   2   0   0   6   0   0   0]\n",
      " [  2   0   0   1   0   0   0   0  16   0   0   0  97   0   0]\n",
      " [  0   0   0   0   0   0   0   0  13   0   0   0   0   1   0]\n",
      " [  0   2   0   0   0   0   0   0   4   0   0   0   1   0   3]]\n",
      "########################################################\n",
      "CPU times: user 6min 24s, sys: 1.71 s, total: 6min 25s\n",
      "Wall time: 6min 32s\n"
     ]
    }
   ],
   "source": [
    "%%time\n",
    "from sklearn.linear_model import LogisticRegression \n",
    "\n",
    "clflr, Xtrain, ytrain, Xtest, ytest = do_classify(LogisticRegression(penalty=\"l1\"), \\\n",
    "                                                   {\"C\": [0.001, 0.01, 0.1, 1.0, 10.0]},\n",
    "                                                   pca_train,t_train,reuse_split=reuse_split)"
   ]
  },
  {
   "cell_type": "code",
   "execution_count": null,
   "metadata": {
    "collapsed": true
   },
   "outputs": [],
   "source": [
    "import GaussianGenerativeModel\n",
    "\n",
    "nb1 = GaussianGenerativeModel(isSharedCovariance=False)\n",
    "nb1.fit(X,Y)\n",
    "nb1.predit()\n",
    "\n",
    "nb2 = GaussianGenerativeModel(isSharedCovariance=True)\n",
    "nb2.fit(X,Y)\n",
    "nb2.visualize(\"generative_result_shared_covariances.png\")\n"
   ]
  }
 ],
 "metadata": {
  "kernelspec": {
   "display_name": "Python 2",
   "language": "python",
   "name": "python2"
  },
  "language_info": {
   "codemirror_mode": {
    "name": "ipython",
    "version": 2
   },
   "file_extension": ".py",
   "mimetype": "text/x-python",
   "name": "python",
   "nbconvert_exporter": "python",
   "pygments_lexer": "ipython2",
   "version": "2.7.11"
  }
 },
 "nbformat": 4,
 "nbformat_minor": 0
}
